{
 "cells": [
  {
   "cell_type": "markdown",
   "metadata": {},
   "source": [
    "# Sequence Classification using Recurrent Neural Networks(RNN)\n",
    "In this homework, you will learn how to train a recurrent neural network for human action classification. RNN is designed handle sequential data. The network can incorporate both past history and current input. [This](http://colah.github.io/posts/2015-08-Understanding-LSTMs/) is a very good tutorial. You should read it before you start."
   ]
  },
  {
   "cell_type": "markdown",
   "metadata": {},
   "source": [
    "## Setup\n",
    "**Please make sure you have h5py and torchnet installed**\n",
    "> pip install h5py\n",
    "\n",
    "> pip install git+https://github.com/pytorch/tnt.git@master\n",
    "\n",
    "## Known Windows Issues:\n",
    "### In case you're getting an error [Read more](https://discuss.pytorch.org/t/brokenpipeerror-errno-32-broken-pipe-when-i-run-cifar10-tutorial-py/6224): \n",
    "```python\n",
    "BrokenPipeError: [Errno 32] Broken pipe\n",
    "```\n",
    "\n",
    ">In the dataloader block change Line 39, 42, and 45 num_workers=0 \n",
    "\n",
    "### In case of error (This should be a CUDA error [Read more](https://discuss.pytorch.org/t/asserterror-in-lstm-layer-on-gpu/8698)):\n",
    "\n",
    "```python\n",
    "--> 186             assert param_from.type() == param_to.type()\n",
    "AssertionError: \n",
    "```\n",
    "\n",
    "**Replace following lines:**\n",
    "```python\n",
    "def run_epoch(data_loader, model, criterion, epoch, is_training, optimizer=None):\n",
    "    ...\n",
    "    input_sequence_var = Variable(sequence).type(FloatTensor)\n",
    "    input_label_var = Variable(label).type(LongTensor)\n",
    "    ...\n",
    "```\n",
    "```python\n",
    "def predict_on_test(model, data_loader):\n",
    "    ...\n",
    "        input_sequence_var = Variable(sequence).type(FloatTensor)\n",
    "    ...\n",
    "```\n",
    "** With: **\n",
    "```python\n",
    "def run_epoch(data_loader, model, criterion, epoch, is_training, optimizer=None):\n",
    "    ...\n",
    "    input_sequence_var = Variable(sequence)\n",
    "    input_label_var = Variable(label)\n",
    "    ...\n",
    "```\n",
    "```python\n",
    "def predict_on_test(model, data_loader):\n",
    "    ...\n",
    "        input_sequence_var = Variable(sequence)\n",
    "    ...\n",
    "```"
   ]
  },
  {
   "cell_type": "code",
   "execution_count": 1,
   "metadata": {},
   "outputs": [
    {
     "name": "stderr",
     "output_type": "stream",
     "text": [
      "C:\\environment\\Anaconda3\\lib\\site-packages\\h5py\\__init__.py:34: FutureWarning: Conversion of the second argument of issubdtype from `float` to `np.floating` is deprecated. In future, it will be treated as `np.float64 == np.dtype(float).type`.\n",
      "  from ._conv import register_converters as _register_converters\n"
     ]
    },
    {
     "name": "stdout",
     "output_type": "stream",
     "text": [
      "use cuda: True\n"
     ]
    }
   ],
   "source": [
    "import os\n",
    "import numpy as np\n",
    "import h5py\n",
    "\n",
    "import torch\n",
    "import torch.nn as nn\n",
    "from torch.autograd import Variable\n",
    "import torch.utils.data as DD\n",
    "import torchnet as tnt\n",
    "\n",
    "\n",
    "use_cuda = torch.cuda.is_available()\n",
    "print('use cuda: %s'%(use_cuda))\n",
    "FloatTensor = torch.cuda.FloatTensor if use_cuda else torch.FloatTensor\n",
    "LongTensor = torch.cuda.LongTensor if use_cuda else torch.LongTensor\n",
    "ByteTensor = torch.cuda.ByteTensor if use_cuda else torch.ByteTensor\n",
    "\n"
   ]
  },
  {
   "cell_type": "markdown",
   "metadata": {},
   "source": [
    "## Dataset\n",
    "The data we are using is skeleton data, which indicates the 3D locations of body joints. In total, there are 25 body joints. It is collected by Kinect v2. To make it easier, each sequence have same number of frames. You need to classify 10 different actions. There are 4000 training sequences, 800 validation sequences, and 1000 test sequences. Each sequence has 15 frames, each frame is a 75-dimension vector (3*25).\n",
    "\n",
    "For your convenience, we provide the dataloader for you.\n"
   ]
  },
  {
   "cell_type": "code",
   "execution_count": 2,
   "metadata": {},
   "outputs": [],
   "source": [
    "from sklearn import preprocessing\n",
    "def normalize(data):\n",
    "    n,s,d = data.shape\n",
    "    new_data = np.reshape(data,(n,s*d))\n",
    "    scaler =  preprocessing.Normalizer()\n",
    "    new_data = scaler.fit_transform(new_data)\n",
    "    data = np.reshape(new_data,(n,s,d))\n",
    "    return data,scaler\n",
    "\n",
    "def normalize_trans(data,scaler=None):\n",
    "    n,s,d = data.shape\n",
    "    new_data = np.reshape(data,(n,s*d))\n",
    "    new_data = scaler.transform(new_data)\n",
    "    data = np.reshape(new_data,(n,s,d))\n",
    "    return data"
   ]
  },
  {
   "cell_type": "code",
   "execution_count": 4,
   "metadata": {},
   "outputs": [],
   "source": [
    "class Dataset(DD.Dataset):\n",
    "    # subset can be: 'train', 'val', 'test'\n",
    "    def __init__(self, data_path, subset='train', scaler=None):\n",
    "        super(Dataset, self).__init__()\n",
    "        self.data_path = os.path.join(data_path, '%s_data.h5'%subset)\n",
    "        self.subset = subset\n",
    "#         self.scaler = scaler\n",
    "        '''\n",
    "        if subset=='train':\n",
    "            with h5py.File(self.data_path) as f:\n",
    "                self.data,self.scaler = normalize(np.array(f['data']))\n",
    "        else:\n",
    "            with h5py.File(self.data_path) as f:\n",
    "                self.data = normalize_trans(np.array(f['data']),scaler)\n",
    "        '''\n",
    "        with h5py.File(self.data_path) as f:\n",
    "            self.data = np.array(f['data'])\n",
    "        if subset != 'test':\n",
    "            self.label_path = os.path.join(data_path, '%s_label.h5'%subset)\n",
    "            with h5py.File(self.label_path) as f:\n",
    "                self.label = np.array(f['label'])\n",
    "\n",
    "        self.num_sequences = self.data.shape[0]\n",
    "        self.seq_len = self.data.shape[1]\n",
    "        self.n_dim = self.data.shape[2]\n",
    "\n",
    "    def __getitem__(self, index):\n",
    "        seq = self.data[index]\n",
    "        if self.subset != 'test':\n",
    "            label = int(self.label[index])\n",
    "            sample = {'seq': seq, 'label': label}\n",
    "        else:\n",
    "            sample = {'seq': seq}\n",
    "        return sample\n",
    "\n",
    "    def __len__(self):\n",
    "        return self.num_sequences\n",
    "\n",
    "trSet = Dataset('./data', subset='train')\n",
    "valSet = Dataset('./data', subset='val')\n",
    "tstSet = Dataset('./data', subset='test')\n",
    "\n",
    "batch_size = 50\n",
    "trLD = DD.DataLoader(trSet, batch_size=batch_size,\n",
    "       sampler=DD.sampler.RandomSampler(trSet),\n",
    "       num_workers=0, pin_memory=False)\n",
    "valLD = DD.DataLoader(valSet, batch_size=batch_size,\n",
    "       sampler=DD.sampler.SequentialSampler(valSet),\n",
    "       num_workers=0, pin_memory=False)\n",
    "tstLD = DD.DataLoader(tstSet, batch_size=batch_size,\n",
    "       sampler=DD.sampler.SequentialSampler(tstSet),\n",
    "       num_workers=0, pin_memory=False)\n",
    "\n",
    "input_dim = trSet.n_dim\n",
    "num_class = 10"
   ]
  },
  {
   "cell_type": "code",
   "execution_count": 12,
   "metadata": {},
   "outputs": [
    {
     "data": {
      "text/plain": [
       "(4000, 15, 75)"
      ]
     },
     "execution_count": 12,
     "metadata": {},
     "output_type": "execute_result"
    }
   ],
   "source": [
    "trSet.data.shape"
   ]
  },
  {
   "cell_type": "code",
   "execution_count": 67,
   "metadata": {},
   "outputs": [
    {
     "data": {
      "text/plain": [
       "-0.5"
      ]
     },
     "execution_count": 67,
     "metadata": {},
     "output_type": "execute_result"
    }
   ],
   "source": [
    "trSet.data.min()"
   ]
  },
  {
   "cell_type": "code",
   "execution_count": 48,
   "metadata": {},
   "outputs": [
    {
     "data": {
      "text/plain": [
       "0.6915677"
      ]
     },
     "execution_count": 48,
     "metadata": {},
     "output_type": "execute_result"
    }
   ],
   "source": [
    "trSet.data.max()"
   ]
  },
  {
   "cell_type": "code",
   "execution_count": 56,
   "metadata": {},
   "outputs": [],
   "source": [
    "data = np.reshape(valSet.data,(800,15*75))"
   ]
  },
  {
   "cell_type": "code",
   "execution_count": 57,
   "metadata": {},
   "outputs": [
    {
     "data": {
      "text/plain": [
       "array([ 0.01484092,  0.0968764 ,  0.1975097 , ..., -0.09356669,\n",
       "        0.17099081,  0.19392389], dtype=float32)"
      ]
     },
     "execution_count": 57,
     "metadata": {},
     "output_type": "execute_result"
    }
   ],
   "source": [
    "data[0]"
   ]
  },
  {
   "cell_type": "code",
   "execution_count": 58,
   "metadata": {},
   "outputs": [
    {
     "data": {
      "text/plain": [
       "array([ 0.06214263,  0.11935428,  0.11998147, ..., -0.11136864,\n",
       "        0.4681001 ,  0.10671961], dtype=float32)"
      ]
     },
     "execution_count": 58,
     "metadata": {},
     "output_type": "execute_result"
    }
   ],
   "source": [
    "data[1]"
   ]
  },
  {
   "cell_type": "code",
   "execution_count": 59,
   "metadata": {},
   "outputs": [
    {
     "data": {
      "text/plain": [
       "0.3046246"
      ]
     },
     "execution_count": 59,
     "metadata": {},
     "output_type": "execute_result"
    }
   ],
   "source": [
    "data.mean(axis=0).max()"
   ]
  },
  {
   "cell_type": "code",
   "execution_count": 60,
   "metadata": {},
   "outputs": [
    {
     "data": {
      "text/plain": [
       "-0.20413572"
      ]
     },
     "execution_count": 60,
     "metadata": {},
     "output_type": "execute_result"
    }
   ],
   "source": [
    "data.mean(axis=0).min()"
   ]
  },
  {
   "cell_type": "markdown",
   "metadata": {},
   "source": [
    "## Model\n",
    "Pytorch has implemented different types of recurrent layers for you. For this homework, you can use any type of RNNs as you want:\n",
    "> torch.nn.RNN()\n",
    "\n",
    "> torch.nn.LSTM()\n",
    "\n",
    "> torch.nn.GRU()\n",
    "\n",
    "You can check details for different types of recurrent layers here: [RNN](http://pytorch.org/docs/master/nn.html#torch.nn.RNN), [LSTM]( http://pytorch.org/docs/master/nn.html#torch.nn.LSTM), [GRU](http://pytorch.org/docs/master/nn.html#torch.nn.GRU)\n",
    "\n",
    "\n",
    "### Implement a specific model\n",
    "In this section, you need to implement a model for sequence classification. The model has following layers:\n",
    "* 1 Layer LSTM layer with hidden size of 100, and input size of 75\n",
    "* A linear layer that goes from 100 to num_class (10). \n",
    "\n",
    "An LSTM layer takes an input of size of (batch_size, seq_len, fea_dim) and outputs a variable of shape (batch_size, seq_len, hidden_size). In this homework, the classification score for a sequence is the classification score for the last step of rnn_outputs.\n",
    "\n"
   ]
  },
  {
   "cell_type": "code",
   "execution_count": 39,
   "metadata": {},
   "outputs": [],
   "source": [
    "class Flatten(nn.Module):\n",
    "    def forward(self, input):\n",
    "        return input.view(input.size(0), -1)\n",
    "    \n",
    "# sequence classification model\n",
    "class SequenceClassify(nn.Module):\n",
    "    def __init__(self):\n",
    "        super(SequenceClassify, self).__init__()\n",
    "        \n",
    "        ############## 1st To Do (20 points) ##############\n",
    "        ###################################################\n",
    "        self.recurrent_layer = torch.nn.LSTM(input_size = 75,hidden_size = 100, num_layers = 2, dropout=0.5)\n",
    "        self.classify_layer = torch.nn.Sequential(torch.nn.Conv1d(15,10,3),torch.nn.BatchNorm1d(10),torch.nn.ReLU(),torch.nn.Dropout(0.5),Flatten(),torch.nn.Linear(980,10))\n",
    "        ###################################################\n",
    "    \n",
    "    # the size of input is [batch_size, seq_len(15), input_dim(75)]\n",
    "    # the size of logits is [batch_size, num_class]\n",
    "    def forward(self, input, h_t_1=None, c_t_1=None):\n",
    "        # the size of rnn_outputs is [batch_size, seq_len, rnn_size]\n",
    "        rnn_outputs, (hn, cn) = self.recurrent_layer(input)\n",
    "        # classify the last step of rnn_outpus\n",
    "        # the size of logits is [batch_size, num_class]\n",
    "#         logits = self.project_layer(rnn_outputs[:,-1])\n",
    "        logits = self.classify_layer(rnn_outputs)\n",
    "        return logits\n",
    "\n",
    "model = SequenceClassify().cuda()"
   ]
  },
  {
   "cell_type": "markdown",
   "metadata": {},
   "source": [
    "## Train the model\n",
    "After you have the dataloader and model, you can start training the model. Define a SGD optimizer with learning rate of 1e-2, and a cross-entropy loss function:"
   ]
  },
  {
   "cell_type": "code",
   "execution_count": 34,
   "metadata": {},
   "outputs": [],
   "source": [
    "################ 2nd To Do  (5 points)##################\n",
    "optimizer = torch.optim.SGD(model.parameters(), lr = 0.01, momentum=0.9)\n",
    "# optimizer = torch.optim.Adam(model.parameters(), lr = 0.01)\n",
    "criterion = torch.nn.CrossEntropyLoss().cuda()\n"
   ]
  },
  {
   "cell_type": "code",
   "execution_count": 35,
   "metadata": {
    "scrolled": true
   },
   "outputs": [],
   "source": [
    "# run the model for one epoch\n",
    "# can be used for both training or validation model\n",
    "def run_epoch(data_loader, model, criterion, epoch, is_training, optimizer=None):\n",
    "    if is_training:\n",
    "        model.train()\n",
    "        logger_prefix = 'train'\n",
    "    else:\n",
    "        model.eval()\n",
    "        logger_prefix = 'val'\n",
    "\n",
    "    confusion_matrix = tnt.meter.ConfusionMeter(num_class)\n",
    "    acc = tnt.meter.ClassErrorMeter(accuracy=True)\n",
    "    meter_loss = tnt.meter.AverageValueMeter()\n",
    "\n",
    "    for batch_idx, sample in enumerate(data_loader):\n",
    "        sequence = sample['seq']\n",
    "        label = sample['label']\n",
    "#         print(sequence.shape)\n",
    "        input_sequence_var = Variable(sequence).type(FloatTensor)\n",
    "        input_label_var = Variable(label).type(LongTensor)\n",
    "\n",
    "        # compute output\n",
    "        # output_logits: [batch_size, num_class]\n",
    "        output_logits = model(input_sequence_var).cuda()      \n",
    "        loss = criterion(output_logits, input_label_var).cuda()\n",
    "\n",
    "        if is_training:\n",
    "            optimizer.zero_grad()\n",
    "            loss.backward()\n",
    "            optimizer.step()\n",
    "\n",
    "        meter_loss.add(loss.data[0])\n",
    "        acc.add(output_logits.data, input_label_var.data)\n",
    "        confusion_matrix.add(output_logits.data, input_label_var.data)\n",
    "\n",
    "    print('%s Epoch: %d  , Loss: %.4f,  Accuracy: %.2f'%(logger_prefix, epoch, meter_loss.value()[0], acc.value()[0]))\n",
    "    return meter_loss.value()[0],acc.value()[0]\n"
   ]
  },
  {
   "cell_type": "code",
   "execution_count": 36,
   "metadata": {},
   "outputs": [],
   "source": [
    "train_loss = []\n",
    "train_acc = []\n",
    "valid_loss = []\n",
    "valid_acc = []"
   ]
  },
  {
   "cell_type": "code",
   "execution_count": 40,
   "metadata": {
    "scrolled": true
   },
   "outputs": [
    {
     "name": "stderr",
     "output_type": "stream",
     "text": [
      "C:\\environment\\Anaconda3\\lib\\site-packages\\ipykernel_launcher.py:32: UserWarning: invalid index of a 0-dim tensor. This will be an error in PyTorch 0.5. Use tensor.item() to convert a 0-dim tensor to a Python number\n"
     ]
    },
    {
     "name": "stdout",
     "output_type": "stream",
     "text": [
      "train Epoch: 0  , Loss: 2.4045,  Accuracy: 9.33\n",
      "train Epoch: 1  , Loss: 2.3535,  Accuracy: 9.70\n",
      "train Epoch: 2  , Loss: 2.3350,  Accuracy: 9.80\n",
      "train Epoch: 3  , Loss: 2.3331,  Accuracy: 10.00\n",
      "train Epoch: 4  , Loss: 2.3320,  Accuracy: 9.95\n",
      "val Epoch: 4  , Loss: 2.4439,  Accuracy: 13.88\n",
      "train Epoch: 5  , Loss: 2.3311,  Accuracy: 9.90\n",
      "train Epoch: 6  , Loss: 2.3299,  Accuracy: 10.38\n",
      "train Epoch: 7  , Loss: 2.3243,  Accuracy: 11.52\n",
      "train Epoch: 8  , Loss: 2.2794,  Accuracy: 14.00\n",
      "train Epoch: 9  , Loss: 2.0370,  Accuracy: 22.90\n",
      "val Epoch: 9  , Loss: 1.9220,  Accuracy: 31.75\n",
      "train Epoch: 10  , Loss: 1.7838,  Accuracy: 32.73\n",
      "train Epoch: 11  , Loss: 1.6422,  Accuracy: 39.58\n",
      "train Epoch: 12  , Loss: 1.5531,  Accuracy: 43.03\n",
      "train Epoch: 13  , Loss: 1.5020,  Accuracy: 44.65\n",
      "train Epoch: 14  , Loss: 1.4033,  Accuracy: 48.95\n",
      "val Epoch: 14  , Loss: 1.1479,  Accuracy: 61.62\n",
      "train Epoch: 15  , Loss: 1.3212,  Accuracy: 51.60\n",
      "train Epoch: 16  , Loss: 1.2416,  Accuracy: 54.90\n",
      "train Epoch: 17  , Loss: 1.1976,  Accuracy: 55.38\n",
      "train Epoch: 18  , Loss: 1.1538,  Accuracy: 58.00\n",
      "train Epoch: 19  , Loss: 1.1371,  Accuracy: 58.00\n",
      "val Epoch: 19  , Loss: 1.0629,  Accuracy: 62.25\n",
      "train Epoch: 20  , Loss: 1.1160,  Accuracy: 59.38\n",
      "train Epoch: 21  , Loss: 1.0767,  Accuracy: 61.02\n",
      "train Epoch: 22  , Loss: 1.0587,  Accuracy: 60.45\n",
      "train Epoch: 23  , Loss: 1.1082,  Accuracy: 60.22\n",
      "train Epoch: 24  , Loss: 1.0256,  Accuracy: 62.48\n",
      "val Epoch: 24  , Loss: 1.0589,  Accuracy: 65.75\n",
      "train Epoch: 25  , Loss: 1.0281,  Accuracy: 62.40\n",
      "train Epoch: 26  , Loss: 0.9928,  Accuracy: 64.15\n",
      "train Epoch: 27  , Loss: 0.9933,  Accuracy: 63.87\n",
      "train Epoch: 28  , Loss: 0.9770,  Accuracy: 64.33\n",
      "train Epoch: 29  , Loss: 0.9746,  Accuracy: 63.55\n",
      "val Epoch: 29  , Loss: 0.9374,  Accuracy: 68.38\n",
      "train Epoch: 30  , Loss: 0.9301,  Accuracy: 65.83\n",
      "train Epoch: 31  , Loss: 0.9147,  Accuracy: 67.18\n",
      "train Epoch: 32  , Loss: 0.9281,  Accuracy: 66.27\n",
      "train Epoch: 33  , Loss: 0.9147,  Accuracy: 67.35\n",
      "train Epoch: 34  , Loss: 0.8916,  Accuracy: 67.40\n",
      "val Epoch: 34  , Loss: 0.9241,  Accuracy: 69.75\n",
      "train Epoch: 35  , Loss: 0.8933,  Accuracy: 68.58\n",
      "train Epoch: 36  , Loss: 0.8889,  Accuracy: 68.08\n",
      "train Epoch: 37  , Loss: 0.8922,  Accuracy: 67.83\n",
      "train Epoch: 38  , Loss: 0.8597,  Accuracy: 69.10\n",
      "train Epoch: 39  , Loss: 0.8557,  Accuracy: 68.95\n",
      "val Epoch: 39  , Loss: 0.9132,  Accuracy: 70.38\n",
      "train Epoch: 40  , Loss: 0.8637,  Accuracy: 69.83\n",
      "train Epoch: 41  , Loss: 0.8267,  Accuracy: 71.10\n",
      "train Epoch: 42  , Loss: 0.8315,  Accuracy: 70.30\n",
      "train Epoch: 43  , Loss: 0.8307,  Accuracy: 70.47\n",
      "train Epoch: 44  , Loss: 0.8513,  Accuracy: 69.17\n",
      "val Epoch: 44  , Loss: 0.8205,  Accuracy: 73.75\n",
      "train Epoch: 45  , Loss: 0.8571,  Accuracy: 69.70\n",
      "train Epoch: 46  , Loss: 0.8035,  Accuracy: 71.08\n",
      "train Epoch: 47  , Loss: 0.8102,  Accuracy: 70.50\n",
      "train Epoch: 48  , Loss: 0.7915,  Accuracy: 71.55\n",
      "train Epoch: 49  , Loss: 0.8139,  Accuracy: 71.20\n",
      "val Epoch: 49  , Loss: 0.8420,  Accuracy: 73.12\n",
      "train Epoch: 50  , Loss: 0.7890,  Accuracy: 72.65\n",
      "train Epoch: 51  , Loss: 0.7908,  Accuracy: 70.65\n",
      "train Epoch: 52  , Loss: 0.7788,  Accuracy: 72.03\n",
      "train Epoch: 53  , Loss: 0.7817,  Accuracy: 72.20\n",
      "train Epoch: 54  , Loss: 0.7722,  Accuracy: 72.17\n",
      "val Epoch: 54  , Loss: 0.8179,  Accuracy: 73.12\n",
      "train Epoch: 55  , Loss: 0.7904,  Accuracy: 71.95\n",
      "train Epoch: 56  , Loss: 0.7598,  Accuracy: 72.90\n",
      "train Epoch: 57  , Loss: 0.7642,  Accuracy: 72.28\n",
      "train Epoch: 58  , Loss: 0.7629,  Accuracy: 73.05\n",
      "train Epoch: 59  , Loss: 0.7533,  Accuracy: 73.32\n",
      "val Epoch: 59  , Loss: 0.8402,  Accuracy: 72.25\n",
      "train Epoch: 60  , Loss: 0.7812,  Accuracy: 72.58\n",
      "train Epoch: 61  , Loss: 0.7659,  Accuracy: 72.43\n",
      "train Epoch: 62  , Loss: 0.7401,  Accuracy: 73.85\n",
      "train Epoch: 63  , Loss: 0.7390,  Accuracy: 74.08\n",
      "train Epoch: 64  , Loss: 0.7203,  Accuracy: 74.25\n",
      "val Epoch: 64  , Loss: 0.7807,  Accuracy: 73.38\n",
      "train Epoch: 65  , Loss: 0.7271,  Accuracy: 74.17\n",
      "train Epoch: 66  , Loss: 0.7258,  Accuracy: 74.55\n",
      "train Epoch: 67  , Loss: 0.6990,  Accuracy: 74.67\n",
      "train Epoch: 68  , Loss: 0.7113,  Accuracy: 74.58\n",
      "train Epoch: 69  , Loss: 0.7053,  Accuracy: 74.85\n",
      "val Epoch: 69  , Loss: 0.7923,  Accuracy: 74.75\n",
      "train Epoch: 70  , Loss: 0.7109,  Accuracy: 74.28\n",
      "train Epoch: 71  , Loss: 0.7011,  Accuracy: 74.72\n",
      "train Epoch: 72  , Loss: 0.7048,  Accuracy: 74.70\n",
      "train Epoch: 73  , Loss: 0.6963,  Accuracy: 75.70\n",
      "train Epoch: 74  , Loss: 0.6846,  Accuracy: 76.40\n",
      "val Epoch: 74  , Loss: 0.7678,  Accuracy: 76.12\n",
      "train Epoch: 75  , Loss: 0.6722,  Accuracy: 76.22\n",
      "train Epoch: 76  , Loss: 0.6881,  Accuracy: 75.58\n",
      "train Epoch: 77  , Loss: 0.6869,  Accuracy: 76.55\n",
      "train Epoch: 78  , Loss: 0.6816,  Accuracy: 75.60\n",
      "train Epoch: 79  , Loss: 0.6975,  Accuracy: 75.90\n",
      "val Epoch: 79  , Loss: 0.8467,  Accuracy: 71.75\n",
      "train Epoch: 80  , Loss: 0.6923,  Accuracy: 75.65\n",
      "train Epoch: 81  , Loss: 0.6888,  Accuracy: 75.55\n",
      "train Epoch: 82  , Loss: 0.6613,  Accuracy: 76.83\n",
      "train Epoch: 83  , Loss: 0.6744,  Accuracy: 76.65\n",
      "train Epoch: 84  , Loss: 0.6631,  Accuracy: 76.55\n",
      "val Epoch: 84  , Loss: 0.7651,  Accuracy: 75.62\n",
      "train Epoch: 85  , Loss: 0.6590,  Accuracy: 76.10\n",
      "train Epoch: 86  , Loss: 0.6486,  Accuracy: 77.15\n",
      "train Epoch: 87  , Loss: 0.6653,  Accuracy: 76.88\n",
      "train Epoch: 88  , Loss: 0.6582,  Accuracy: 76.72\n",
      "train Epoch: 89  , Loss: 0.6307,  Accuracy: 77.77\n",
      "val Epoch: 89  , Loss: 0.7594,  Accuracy: 75.62\n",
      "train Epoch: 90  , Loss: 0.6451,  Accuracy: 77.55\n",
      "train Epoch: 91  , Loss: 0.6343,  Accuracy: 77.30\n",
      "train Epoch: 92  , Loss: 0.6497,  Accuracy: 76.90\n",
      "train Epoch: 93  , Loss: 0.6494,  Accuracy: 76.12\n",
      "train Epoch: 94  , Loss: 0.6301,  Accuracy: 78.03\n",
      "val Epoch: 94  , Loss: 0.7260,  Accuracy: 76.12\n",
      "train Epoch: 95  , Loss: 0.6332,  Accuracy: 77.77\n",
      "train Epoch: 96  , Loss: 0.6068,  Accuracy: 77.30\n",
      "train Epoch: 97  , Loss: 0.6401,  Accuracy: 77.60\n",
      "train Epoch: 98  , Loss: 0.6418,  Accuracy: 77.25\n",
      "train Epoch: 99  , Loss: 0.6315,  Accuracy: 77.70\n",
      "val Epoch: 99  , Loss: 0.7185,  Accuracy: 78.00\n",
      "train Epoch: 0  , Loss: 0.5974,  Accuracy: 78.92\n",
      "train Epoch: 1  , Loss: 0.6083,  Accuracy: 77.95\n",
      "train Epoch: 2  , Loss: 0.5897,  Accuracy: 78.90\n",
      "train Epoch: 3  , Loss: 0.5666,  Accuracy: 79.38\n",
      "train Epoch: 4  , Loss: 0.5874,  Accuracy: 78.38\n",
      "val Epoch: 4  , Loss: 0.7092,  Accuracy: 76.88\n",
      "train Epoch: 5  , Loss: 0.5902,  Accuracy: 78.72\n",
      "train Epoch: 6  , Loss: 0.5909,  Accuracy: 79.30\n",
      "train Epoch: 7  , Loss: 0.5629,  Accuracy: 79.77\n",
      "train Epoch: 8  , Loss: 0.5646,  Accuracy: 79.80\n",
      "train Epoch: 9  , Loss: 0.5685,  Accuracy: 80.30\n",
      "val Epoch: 9  , Loss: 0.7261,  Accuracy: 77.75\n",
      "train Epoch: 10  , Loss: 0.5577,  Accuracy: 79.88\n",
      "train Epoch: 11  , Loss: 0.5810,  Accuracy: 79.77\n",
      "train Epoch: 12  , Loss: 0.5722,  Accuracy: 79.10\n",
      "train Epoch: 13  , Loss: 0.5713,  Accuracy: 79.62\n",
      "train Epoch: 14  , Loss: 0.5537,  Accuracy: 80.27\n",
      "val Epoch: 14  , Loss: 0.8010,  Accuracy: 74.25\n",
      "train Epoch: 15  , Loss: 0.5752,  Accuracy: 79.72\n",
      "train Epoch: 16  , Loss: 0.5848,  Accuracy: 78.97\n",
      "train Epoch: 17  , Loss: 0.5748,  Accuracy: 78.85\n",
      "train Epoch: 18  , Loss: 0.5609,  Accuracy: 79.50\n",
      "train Epoch: 19  , Loss: 0.5695,  Accuracy: 80.77\n",
      "val Epoch: 19  , Loss: 0.6883,  Accuracy: 79.38\n",
      "train Epoch: 20  , Loss: 0.5716,  Accuracy: 79.45\n",
      "train Epoch: 21  , Loss: 0.5510,  Accuracy: 79.92\n",
      "train Epoch: 22  , Loss: 0.5759,  Accuracy: 79.77\n",
      "train Epoch: 23  , Loss: 0.5679,  Accuracy: 78.88\n",
      "train Epoch: 24  , Loss: 0.5649,  Accuracy: 79.90\n",
      "val Epoch: 24  , Loss: 0.6816,  Accuracy: 78.62\n",
      "train Epoch: 25  , Loss: 0.5507,  Accuracy: 80.33\n",
      "train Epoch: 26  , Loss: 0.5568,  Accuracy: 80.20\n",
      "train Epoch: 27  , Loss: 0.5625,  Accuracy: 80.10\n",
      "train Epoch: 28  , Loss: 0.5754,  Accuracy: 79.45\n",
      "train Epoch: 29  , Loss: 0.5473,  Accuracy: 80.03\n",
      "val Epoch: 29  , Loss: 0.6731,  Accuracy: 78.75\n",
      "train Epoch: 30  , Loss: 0.5657,  Accuracy: 79.92\n",
      "train Epoch: 31  , Loss: 0.5370,  Accuracy: 80.77\n",
      "train Epoch: 32  , Loss: 0.5371,  Accuracy: 80.47\n",
      "train Epoch: 33  , Loss: 0.5462,  Accuracy: 80.40\n",
      "train Epoch: 34  , Loss: 0.5370,  Accuracy: 81.08\n",
      "val Epoch: 34  , Loss: 0.7064,  Accuracy: 78.88\n",
      "train Epoch: 35  , Loss: 0.5341,  Accuracy: 80.95\n",
      "train Epoch: 36  , Loss: 0.5320,  Accuracy: 81.47\n",
      "train Epoch: 37  , Loss: 0.5390,  Accuracy: 80.73\n",
      "train Epoch: 38  , Loss: 0.5244,  Accuracy: 81.05\n"
     ]
    },
    {
     "name": "stdout",
     "output_type": "stream",
     "text": [
      "train Epoch: 39  , Loss: 0.5295,  Accuracy: 81.40\n",
      "val Epoch: 39  , Loss: 0.7508,  Accuracy: 78.50\n",
      "train Epoch: 40  , Loss: 0.5260,  Accuracy: 80.92\n",
      "train Epoch: 41  , Loss: 0.5431,  Accuracy: 80.75\n",
      "train Epoch: 42  , Loss: 0.5401,  Accuracy: 80.50\n",
      "train Epoch: 43  , Loss: 0.5421,  Accuracy: 80.88\n",
      "train Epoch: 44  , Loss: 0.5379,  Accuracy: 80.30\n",
      "val Epoch: 44  , Loss: 0.7302,  Accuracy: 78.38\n",
      "train Epoch: 45  , Loss: 0.5584,  Accuracy: 79.97\n",
      "train Epoch: 46  , Loss: 0.5481,  Accuracy: 80.33\n",
      "train Epoch: 47  , Loss: 0.5519,  Accuracy: 80.80\n",
      "train Epoch: 48  , Loss: 0.5081,  Accuracy: 82.27\n",
      "train Epoch: 49  , Loss: 0.5252,  Accuracy: 81.25\n",
      "val Epoch: 49  , Loss: 0.7415,  Accuracy: 77.25\n",
      "train Epoch: 50  , Loss: 0.5398,  Accuracy: 80.70\n",
      "train Epoch: 51  , Loss: 0.5305,  Accuracy: 80.67\n",
      "train Epoch: 52  , Loss: 0.5036,  Accuracy: 81.70\n",
      "train Epoch: 53  , Loss: 0.5041,  Accuracy: 81.77\n",
      "train Epoch: 54  , Loss: 0.5416,  Accuracy: 80.03\n",
      "val Epoch: 54  , Loss: 0.7038,  Accuracy: 79.12\n",
      "train Epoch: 55  , Loss: 0.5353,  Accuracy: 80.50\n",
      "train Epoch: 56  , Loss: 0.5085,  Accuracy: 81.20\n",
      "train Epoch: 57  , Loss: 0.5180,  Accuracy: 81.35\n",
      "train Epoch: 58  , Loss: 0.5157,  Accuracy: 81.17\n",
      "train Epoch: 59  , Loss: 0.5108,  Accuracy: 81.90\n",
      "val Epoch: 59  , Loss: 0.6904,  Accuracy: 79.25\n",
      "train Epoch: 60  , Loss: 0.5040,  Accuracy: 81.35\n",
      "train Epoch: 61  , Loss: 0.5146,  Accuracy: 81.40\n",
      "train Epoch: 62  , Loss: 0.5158,  Accuracy: 81.03\n",
      "train Epoch: 63  , Loss: 0.5190,  Accuracy: 81.27\n",
      "train Epoch: 64  , Loss: 0.5182,  Accuracy: 81.58\n",
      "val Epoch: 64  , Loss: 0.7346,  Accuracy: 76.88\n",
      "train Epoch: 65  , Loss: 0.5066,  Accuracy: 81.90\n",
      "train Epoch: 66  , Loss: 0.5103,  Accuracy: 81.60\n",
      "train Epoch: 67  , Loss: 0.5309,  Accuracy: 81.62\n",
      "train Epoch: 68  , Loss: 0.4967,  Accuracy: 82.20\n",
      "train Epoch: 69  , Loss: 0.5157,  Accuracy: 81.62\n",
      "val Epoch: 69  , Loss: 0.6967,  Accuracy: 79.00\n",
      "train Epoch: 70  , Loss: 0.5298,  Accuracy: 80.90\n",
      "train Epoch: 71  , Loss: 0.5264,  Accuracy: 81.42\n",
      "train Epoch: 72  , Loss: 0.5148,  Accuracy: 81.60\n",
      "train Epoch: 73  , Loss: 0.4735,  Accuracy: 83.00\n",
      "train Epoch: 74  , Loss: 0.5143,  Accuracy: 81.17\n",
      "val Epoch: 74  , Loss: 0.7268,  Accuracy: 78.12\n",
      "train Epoch: 75  , Loss: 0.5083,  Accuracy: 81.62\n",
      "train Epoch: 76  , Loss: 0.5133,  Accuracy: 81.38\n",
      "train Epoch: 77  , Loss: 0.5190,  Accuracy: 80.65\n",
      "train Epoch: 78  , Loss: 0.4868,  Accuracy: 81.95\n",
      "train Epoch: 79  , Loss: 0.5035,  Accuracy: 82.30\n",
      "val Epoch: 79  , Loss: 0.6772,  Accuracy: 79.25\n",
      "train Epoch: 80  , Loss: 0.4862,  Accuracy: 82.50\n",
      "train Epoch: 81  , Loss: 0.5101,  Accuracy: 81.58\n",
      "train Epoch: 82  , Loss: 0.4865,  Accuracy: 82.53\n",
      "train Epoch: 83  , Loss: 0.4982,  Accuracy: 82.62\n",
      "train Epoch: 84  , Loss: 0.4827,  Accuracy: 82.55\n",
      "val Epoch: 84  , Loss: 0.7570,  Accuracy: 78.00\n",
      "train Epoch: 85  , Loss: 0.4876,  Accuracy: 82.27\n",
      "train Epoch: 86  , Loss: 0.5056,  Accuracy: 81.40\n",
      "train Epoch: 87  , Loss: 0.5001,  Accuracy: 81.67\n",
      "train Epoch: 88  , Loss: 0.4997,  Accuracy: 81.77\n",
      "train Epoch: 89  , Loss: 0.4923,  Accuracy: 82.30\n",
      "val Epoch: 89  , Loss: 0.6609,  Accuracy: 79.50\n",
      "train Epoch: 90  , Loss: 0.4969,  Accuracy: 82.47\n",
      "train Epoch: 91  , Loss: 0.5041,  Accuracy: 81.95\n",
      "train Epoch: 92  , Loss: 0.4681,  Accuracy: 83.00\n",
      "train Epoch: 93  , Loss: 0.4734,  Accuracy: 82.73\n",
      "train Epoch: 94  , Loss: 0.4625,  Accuracy: 83.30\n",
      "val Epoch: 94  , Loss: 0.7536,  Accuracy: 79.25\n",
      "train Epoch: 95  , Loss: 0.4730,  Accuracy: 83.10\n",
      "train Epoch: 96  , Loss: 0.4823,  Accuracy: 83.02\n",
      "train Epoch: 97  , Loss: 0.4692,  Accuracy: 83.33\n",
      "train Epoch: 98  , Loss: 0.4758,  Accuracy: 82.90\n",
      "train Epoch: 99  , Loss: 0.4748,  Accuracy: 82.50\n",
      "val Epoch: 99  , Loss: 0.6646,  Accuracy: 79.62\n",
      "train Epoch: 0  , Loss: 0.4675,  Accuracy: 83.25\n",
      "train Epoch: 1  , Loss: 0.4613,  Accuracy: 83.70\n",
      "train Epoch: 2  , Loss: 0.4460,  Accuracy: 84.78\n",
      "train Epoch: 3  , Loss: 0.4622,  Accuracy: 82.82\n",
      "train Epoch: 4  , Loss: 0.4547,  Accuracy: 83.62\n",
      "val Epoch: 4  , Loss: 0.6749,  Accuracy: 80.12\n",
      "train Epoch: 5  , Loss: 0.4600,  Accuracy: 83.58\n",
      "train Epoch: 6  , Loss: 0.4705,  Accuracy: 83.78\n",
      "train Epoch: 7  , Loss: 0.4386,  Accuracy: 84.67\n",
      "train Epoch: 8  , Loss: 0.4472,  Accuracy: 83.15\n",
      "train Epoch: 9  , Loss: 0.4430,  Accuracy: 84.35\n",
      "val Epoch: 9  , Loss: 0.7049,  Accuracy: 79.50\n",
      "train Epoch: 10  , Loss: 0.4494,  Accuracy: 84.00\n",
      "train Epoch: 11  , Loss: 0.4644,  Accuracy: 82.73\n",
      "train Epoch: 12  , Loss: 0.4352,  Accuracy: 84.85\n",
      "train Epoch: 13  , Loss: 0.4539,  Accuracy: 83.70\n",
      "train Epoch: 14  , Loss: 0.4477,  Accuracy: 83.88\n",
      "val Epoch: 14  , Loss: 0.6605,  Accuracy: 80.25\n",
      "train Epoch: 15  , Loss: 0.4445,  Accuracy: 84.12\n",
      "train Epoch: 16  , Loss: 0.4335,  Accuracy: 84.65\n",
      "train Epoch: 17  , Loss: 0.4460,  Accuracy: 83.85\n",
      "train Epoch: 18  , Loss: 0.4342,  Accuracy: 84.53\n",
      "train Epoch: 19  , Loss: 0.4399,  Accuracy: 84.17\n",
      "val Epoch: 19  , Loss: 0.8290,  Accuracy: 75.12\n",
      "train Epoch: 20  , Loss: 0.4559,  Accuracy: 82.80\n",
      "train Epoch: 21  , Loss: 0.4570,  Accuracy: 84.35\n",
      "train Epoch: 22  , Loss: 0.4300,  Accuracy: 84.30\n",
      "train Epoch: 23  , Loss: 0.4353,  Accuracy: 84.17\n",
      "train Epoch: 24  , Loss: 0.4352,  Accuracy: 84.22\n",
      "val Epoch: 24  , Loss: 0.6982,  Accuracy: 79.00\n",
      "train Epoch: 25  , Loss: 0.4170,  Accuracy: 84.95\n",
      "train Epoch: 26  , Loss: 0.4523,  Accuracy: 84.15\n",
      "train Epoch: 27  , Loss: 0.4556,  Accuracy: 83.93\n",
      "train Epoch: 28  , Loss: 0.4351,  Accuracy: 84.12\n",
      "train Epoch: 29  , Loss: 0.4582,  Accuracy: 83.70\n",
      "val Epoch: 29  , Loss: 0.6526,  Accuracy: 80.00\n",
      "train Epoch: 30  , Loss: 0.4341,  Accuracy: 83.73\n",
      "train Epoch: 31  , Loss: 0.4448,  Accuracy: 83.75\n",
      "train Epoch: 32  , Loss: 0.4414,  Accuracy: 84.28\n",
      "train Epoch: 33  , Loss: 0.4476,  Accuracy: 83.42\n",
      "train Epoch: 34  , Loss: 0.4200,  Accuracy: 84.82\n",
      "val Epoch: 34  , Loss: 0.6661,  Accuracy: 80.62\n",
      "train Epoch: 35  , Loss: 0.4275,  Accuracy: 84.02\n",
      "train Epoch: 36  , Loss: 0.4517,  Accuracy: 84.17\n",
      "train Epoch: 37  , Loss: 0.4243,  Accuracy: 84.93\n",
      "train Epoch: 38  , Loss: 0.4468,  Accuracy: 84.15\n",
      "train Epoch: 39  , Loss: 0.4085,  Accuracy: 85.80\n",
      "val Epoch: 39  , Loss: 0.6742,  Accuracy: 80.38\n",
      "train Epoch: 40  , Loss: 0.4511,  Accuracy: 83.85\n",
      "train Epoch: 41  , Loss: 0.4324,  Accuracy: 84.35\n",
      "train Epoch: 42  , Loss: 0.4303,  Accuracy: 84.80\n",
      "train Epoch: 43  , Loss: 0.4154,  Accuracy: 84.65\n",
      "train Epoch: 44  , Loss: 0.4253,  Accuracy: 84.90\n",
      "val Epoch: 44  , Loss: 0.7346,  Accuracy: 78.50\n",
      "train Epoch: 45  , Loss: 0.4530,  Accuracy: 83.02\n",
      "train Epoch: 46  , Loss: 0.4207,  Accuracy: 84.38\n",
      "train Epoch: 47  , Loss: 0.4396,  Accuracy: 84.12\n",
      "train Epoch: 48  , Loss: 0.4182,  Accuracy: 84.53\n",
      "train Epoch: 49  , Loss: 0.4143,  Accuracy: 85.80\n",
      "val Epoch: 49  , Loss: 0.7013,  Accuracy: 79.38\n",
      "train Epoch: 50  , Loss: 0.4240,  Accuracy: 84.28\n",
      "train Epoch: 51  , Loss: 0.4414,  Accuracy: 84.10\n",
      "train Epoch: 52  , Loss: 0.4425,  Accuracy: 84.33\n",
      "train Epoch: 53  , Loss: 0.4221,  Accuracy: 84.40\n",
      "train Epoch: 54  , Loss: 0.4119,  Accuracy: 85.05\n",
      "val Epoch: 54  , Loss: 0.6961,  Accuracy: 79.12\n",
      "train Epoch: 55  , Loss: 0.4119,  Accuracy: 85.02\n",
      "train Epoch: 56  , Loss: 0.4138,  Accuracy: 84.60\n",
      "train Epoch: 57  , Loss: 0.4276,  Accuracy: 84.38\n",
      "train Epoch: 58  , Loss: 0.4182,  Accuracy: 84.93\n",
      "train Epoch: 59  , Loss: 0.4078,  Accuracy: 85.53\n",
      "val Epoch: 59  , Loss: 0.6793,  Accuracy: 80.75\n",
      "train Epoch: 60  , Loss: 0.4171,  Accuracy: 84.97\n",
      "train Epoch: 61  , Loss: 0.4381,  Accuracy: 83.90\n",
      "train Epoch: 62  , Loss: 0.4227,  Accuracy: 85.17\n",
      "train Epoch: 63  , Loss: 0.4300,  Accuracy: 84.47\n",
      "train Epoch: 64  , Loss: 0.4106,  Accuracy: 84.78\n",
      "val Epoch: 64  , Loss: 0.7217,  Accuracy: 79.50\n",
      "train Epoch: 65  , Loss: 0.4202,  Accuracy: 84.40\n",
      "train Epoch: 66  , Loss: 0.4265,  Accuracy: 84.80\n",
      "train Epoch: 67  , Loss: 0.4035,  Accuracy: 85.12\n",
      "train Epoch: 68  , Loss: 0.4138,  Accuracy: 85.85\n",
      "train Epoch: 69  , Loss: 0.4376,  Accuracy: 84.38\n",
      "val Epoch: 69  , Loss: 0.7834,  Accuracy: 79.00\n",
      "train Epoch: 70  , Loss: 0.4159,  Accuracy: 84.93\n",
      "train Epoch: 71  , Loss: 0.4414,  Accuracy: 84.12\n",
      "train Epoch: 72  , Loss: 0.3993,  Accuracy: 85.78\n",
      "train Epoch: 73  , Loss: 0.4117,  Accuracy: 85.02\n",
      "train Epoch: 74  , Loss: 0.4214,  Accuracy: 84.35\n",
      "val Epoch: 74  , Loss: 0.6811,  Accuracy: 80.62\n",
      "train Epoch: 75  , Loss: 0.4137,  Accuracy: 85.35\n",
      "train Epoch: 76  , Loss: 0.4035,  Accuracy: 85.35\n"
     ]
    },
    {
     "name": "stdout",
     "output_type": "stream",
     "text": [
      "train Epoch: 77  , Loss: 0.4110,  Accuracy: 84.80\n",
      "train Epoch: 78  , Loss: 0.3915,  Accuracy: 86.00\n",
      "train Epoch: 79  , Loss: 0.4158,  Accuracy: 85.25\n",
      "val Epoch: 79  , Loss: 0.7041,  Accuracy: 81.00\n",
      "train Epoch: 80  , Loss: 0.4007,  Accuracy: 86.02\n",
      "train Epoch: 81  , Loss: 0.4237,  Accuracy: 84.53\n",
      "train Epoch: 82  , Loss: 0.4056,  Accuracy: 84.97\n",
      "train Epoch: 83  , Loss: 0.4110,  Accuracy: 85.28\n",
      "train Epoch: 84  , Loss: 0.4001,  Accuracy: 85.53\n",
      "val Epoch: 84  , Loss: 0.6824,  Accuracy: 80.88\n",
      "train Epoch: 85  , Loss: 0.3945,  Accuracy: 85.97\n",
      "train Epoch: 86  , Loss: 0.3976,  Accuracy: 85.58\n",
      "train Epoch: 87  , Loss: 0.4235,  Accuracy: 85.10\n",
      "train Epoch: 88  , Loss: 0.3914,  Accuracy: 86.02\n",
      "train Epoch: 89  , Loss: 0.4262,  Accuracy: 84.62\n",
      "val Epoch: 89  , Loss: 0.6807,  Accuracy: 81.50\n",
      "train Epoch: 90  , Loss: 0.4017,  Accuracy: 85.50\n",
      "train Epoch: 91  , Loss: 0.4017,  Accuracy: 85.55\n",
      "train Epoch: 92  , Loss: 0.3956,  Accuracy: 85.82\n",
      "train Epoch: 93  , Loss: 0.3952,  Accuracy: 85.53\n",
      "train Epoch: 94  , Loss: 0.4021,  Accuracy: 84.60\n",
      "val Epoch: 94  , Loss: 0.7293,  Accuracy: 79.88\n",
      "train Epoch: 95  , Loss: 0.3996,  Accuracy: 85.20\n",
      "train Epoch: 96  , Loss: 0.4089,  Accuracy: 85.22\n",
      "train Epoch: 97  , Loss: 0.3995,  Accuracy: 85.55\n",
      "train Epoch: 98  , Loss: 0.3799,  Accuracy: 86.45\n",
      "train Epoch: 99  , Loss: 0.4020,  Accuracy: 85.33\n",
      "val Epoch: 99  , Loss: 0.6724,  Accuracy: 80.50\n",
      "train Epoch: 0  , Loss: 0.3825,  Accuracy: 86.12\n",
      "train Epoch: 1  , Loss: 0.3813,  Accuracy: 86.20\n",
      "train Epoch: 2  , Loss: 0.3658,  Accuracy: 87.02\n",
      "train Epoch: 3  , Loss: 0.3856,  Accuracy: 85.73\n",
      "train Epoch: 4  , Loss: 0.3829,  Accuracy: 86.22\n",
      "val Epoch: 4  , Loss: 0.6622,  Accuracy: 80.88\n",
      "train Epoch: 5  , Loss: 0.3849,  Accuracy: 86.50\n",
      "train Epoch: 6  , Loss: 0.3573,  Accuracy: 87.33\n",
      "train Epoch: 7  , Loss: 0.3655,  Accuracy: 86.12\n",
      "train Epoch: 8  , Loss: 0.3602,  Accuracy: 87.02\n",
      "train Epoch: 9  , Loss: 0.3776,  Accuracy: 86.55\n",
      "val Epoch: 9  , Loss: 0.6376,  Accuracy: 81.75\n",
      "train Epoch: 10  , Loss: 0.3812,  Accuracy: 86.33\n",
      "train Epoch: 11  , Loss: 0.3777,  Accuracy: 86.58\n",
      "train Epoch: 12  , Loss: 0.3678,  Accuracy: 86.48\n",
      "train Epoch: 13  , Loss: 0.3503,  Accuracy: 87.38\n",
      "train Epoch: 14  , Loss: 0.3604,  Accuracy: 86.67\n",
      "val Epoch: 14  , Loss: 0.6508,  Accuracy: 81.50\n",
      "train Epoch: 15  , Loss: 0.3816,  Accuracy: 86.28\n",
      "train Epoch: 16  , Loss: 0.3530,  Accuracy: 86.92\n",
      "train Epoch: 17  , Loss: 0.3638,  Accuracy: 86.55\n",
      "train Epoch: 18  , Loss: 0.3565,  Accuracy: 87.02\n",
      "train Epoch: 19  , Loss: 0.3756,  Accuracy: 86.90\n",
      "val Epoch: 19  , Loss: 0.6807,  Accuracy: 81.12\n",
      "train Epoch: 20  , Loss: 0.3704,  Accuracy: 86.45\n",
      "train Epoch: 21  , Loss: 0.3780,  Accuracy: 86.10\n",
      "train Epoch: 22  , Loss: 0.3526,  Accuracy: 87.22\n",
      "train Epoch: 23  , Loss: 0.3570,  Accuracy: 87.00\n",
      "train Epoch: 24  , Loss: 0.3594,  Accuracy: 86.60\n",
      "val Epoch: 24  , Loss: 0.6386,  Accuracy: 81.62\n",
      "train Epoch: 25  , Loss: 0.3737,  Accuracy: 86.58\n",
      "train Epoch: 26  , Loss: 0.3654,  Accuracy: 86.65\n",
      "train Epoch: 27  , Loss: 0.3873,  Accuracy: 86.17\n",
      "train Epoch: 28  , Loss: 0.3633,  Accuracy: 86.80\n",
      "train Epoch: 29  , Loss: 0.3536,  Accuracy: 86.85\n",
      "val Epoch: 29  , Loss: 0.7078,  Accuracy: 80.50\n",
      "train Epoch: 30  , Loss: 0.3620,  Accuracy: 87.33\n",
      "train Epoch: 31  , Loss: 0.3462,  Accuracy: 86.98\n",
      "train Epoch: 32  , Loss: 0.3560,  Accuracy: 87.20\n",
      "train Epoch: 33  , Loss: 0.3677,  Accuracy: 86.30\n",
      "train Epoch: 34  , Loss: 0.3707,  Accuracy: 86.08\n",
      "val Epoch: 34  , Loss: 0.7499,  Accuracy: 79.38\n",
      "train Epoch: 35  , Loss: 0.3672,  Accuracy: 86.78\n",
      "train Epoch: 36  , Loss: 0.3587,  Accuracy: 86.75\n",
      "train Epoch: 37  , Loss: 0.3671,  Accuracy: 86.55\n",
      "train Epoch: 38  , Loss: 0.3625,  Accuracy: 87.08\n",
      "train Epoch: 39  , Loss: 0.3614,  Accuracy: 86.95\n",
      "val Epoch: 39  , Loss: 0.6669,  Accuracy: 80.50\n",
      "train Epoch: 40  , Loss: 0.3503,  Accuracy: 87.05\n",
      "train Epoch: 41  , Loss: 0.3557,  Accuracy: 87.22\n",
      "train Epoch: 42  , Loss: 0.3495,  Accuracy: 87.42\n",
      "train Epoch: 43  , Loss: 0.3570,  Accuracy: 86.52\n",
      "train Epoch: 44  , Loss: 0.3493,  Accuracy: 87.50\n",
      "val Epoch: 44  , Loss: 0.6996,  Accuracy: 80.88\n",
      "train Epoch: 45  , Loss: 0.3656,  Accuracy: 87.00\n",
      "train Epoch: 46  , Loss: 0.3596,  Accuracy: 87.05\n",
      "train Epoch: 47  , Loss: 0.3718,  Accuracy: 87.10\n",
      "train Epoch: 48  , Loss: 0.3847,  Accuracy: 86.72\n",
      "train Epoch: 49  , Loss: 0.3814,  Accuracy: 86.15\n",
      "val Epoch: 49  , Loss: 0.7213,  Accuracy: 79.75\n",
      "train Epoch: 50  , Loss: 0.3565,  Accuracy: 86.60\n",
      "train Epoch: 51  , Loss: 0.3507,  Accuracy: 87.02\n",
      "train Epoch: 52  , Loss: 0.3373,  Accuracy: 87.83\n",
      "train Epoch: 53  , Loss: 0.3606,  Accuracy: 87.15\n",
      "train Epoch: 54  , Loss: 0.3509,  Accuracy: 87.35\n",
      "val Epoch: 54  , Loss: 0.6699,  Accuracy: 81.12\n",
      "train Epoch: 55  , Loss: 0.3654,  Accuracy: 86.72\n",
      "train Epoch: 56  , Loss: 0.3583,  Accuracy: 86.85\n",
      "train Epoch: 57  , Loss: 0.3755,  Accuracy: 86.55\n",
      "train Epoch: 58  , Loss: 0.3653,  Accuracy: 86.62\n",
      "train Epoch: 59  , Loss: 0.3451,  Accuracy: 87.08\n",
      "val Epoch: 59  , Loss: 0.6708,  Accuracy: 81.00\n",
      "train Epoch: 60  , Loss: 0.3481,  Accuracy: 87.65\n",
      "train Epoch: 61  , Loss: 0.3588,  Accuracy: 86.98\n",
      "train Epoch: 62  , Loss: 0.3567,  Accuracy: 86.70\n",
      "train Epoch: 63  , Loss: 0.3482,  Accuracy: 87.12\n",
      "train Epoch: 64  , Loss: 0.3538,  Accuracy: 87.58\n",
      "val Epoch: 64  , Loss: 0.6990,  Accuracy: 81.12\n",
      "train Epoch: 65  , Loss: 0.3555,  Accuracy: 87.15\n",
      "train Epoch: 66  , Loss: 0.3663,  Accuracy: 86.22\n",
      "train Epoch: 67  , Loss: 0.3515,  Accuracy: 87.28\n",
      "train Epoch: 68  , Loss: 0.3375,  Accuracy: 87.83\n",
      "train Epoch: 69  , Loss: 0.3582,  Accuracy: 87.08\n",
      "val Epoch: 69  , Loss: 0.7004,  Accuracy: 80.75\n",
      "train Epoch: 70  , Loss: 0.3545,  Accuracy: 86.95\n",
      "train Epoch: 71  , Loss: 0.3425,  Accuracy: 87.22\n",
      "train Epoch: 72  , Loss: 0.3393,  Accuracy: 87.42\n",
      "train Epoch: 73  , Loss: 0.3528,  Accuracy: 87.22\n",
      "train Epoch: 74  , Loss: 0.3510,  Accuracy: 87.38\n",
      "val Epoch: 74  , Loss: 0.6996,  Accuracy: 81.50\n",
      "train Epoch: 75  , Loss: 0.3548,  Accuracy: 87.98\n",
      "train Epoch: 76  , Loss: 0.3327,  Accuracy: 87.33\n",
      "train Epoch: 77  , Loss: 0.3333,  Accuracy: 87.85\n",
      "train Epoch: 78  , Loss: 0.3491,  Accuracy: 87.25\n",
      "train Epoch: 79  , Loss: 0.3600,  Accuracy: 87.35\n",
      "val Epoch: 79  , Loss: 0.6657,  Accuracy: 83.12\n",
      "train Epoch: 80  , Loss: 0.3507,  Accuracy: 87.72\n",
      "train Epoch: 81  , Loss: 0.3461,  Accuracy: 87.10\n",
      "train Epoch: 82  , Loss: 0.3401,  Accuracy: 87.67\n",
      "train Epoch: 83  , Loss: 0.3491,  Accuracy: 87.08\n",
      "train Epoch: 84  , Loss: 0.3360,  Accuracy: 87.52\n",
      "val Epoch: 84  , Loss: 0.7334,  Accuracy: 81.00\n",
      "train Epoch: 85  , Loss: 0.3497,  Accuracy: 87.38\n",
      "train Epoch: 86  , Loss: 0.3392,  Accuracy: 87.67\n",
      "train Epoch: 87  , Loss: 0.3331,  Accuracy: 87.98\n",
      "train Epoch: 88  , Loss: 0.3495,  Accuracy: 86.80\n",
      "train Epoch: 89  , Loss: 0.3612,  Accuracy: 86.60\n",
      "val Epoch: 89  , Loss: 0.6513,  Accuracy: 81.62\n",
      "train Epoch: 90  , Loss: 0.3333,  Accuracy: 87.95\n",
      "train Epoch: 91  , Loss: 0.3407,  Accuracy: 87.60\n",
      "train Epoch: 92  , Loss: 0.3582,  Accuracy: 86.75\n",
      "train Epoch: 93  , Loss: 0.3346,  Accuracy: 87.65\n",
      "train Epoch: 94  , Loss: 0.3432,  Accuracy: 87.70\n",
      "val Epoch: 94  , Loss: 0.7182,  Accuracy: 81.00\n",
      "train Epoch: 95  , Loss: 0.3277,  Accuracy: 88.15\n",
      "train Epoch: 96  , Loss: 0.3402,  Accuracy: 87.17\n",
      "train Epoch: 97  , Loss: 0.3409,  Accuracy: 87.30\n",
      "train Epoch: 98  , Loss: 0.3238,  Accuracy: 87.88\n",
      "train Epoch: 99  , Loss: 0.3455,  Accuracy: 87.42\n",
      "val Epoch: 99  , Loss: 0.6872,  Accuracy: 81.00\n",
      "train Epoch: 0  , Loss: 0.3108,  Accuracy: 88.92\n",
      "train Epoch: 1  , Loss: 0.3236,  Accuracy: 88.60\n",
      "train Epoch: 2  , Loss: 0.3053,  Accuracy: 88.95\n",
      "train Epoch: 3  , Loss: 0.3183,  Accuracy: 88.30\n",
      "train Epoch: 4  , Loss: 0.3192,  Accuracy: 88.50\n",
      "val Epoch: 4  , Loss: 0.6961,  Accuracy: 81.88\n",
      "train Epoch: 5  , Loss: 0.3007,  Accuracy: 88.83\n",
      "train Epoch: 6  , Loss: 0.3105,  Accuracy: 89.08\n",
      "train Epoch: 7  , Loss: 0.3127,  Accuracy: 88.17\n",
      "train Epoch: 8  , Loss: 0.3192,  Accuracy: 88.22\n",
      "train Epoch: 9  , Loss: 0.3134,  Accuracy: 88.55\n",
      "val Epoch: 9  , Loss: 0.6726,  Accuracy: 81.25\n",
      "train Epoch: 10  , Loss: 0.3077,  Accuracy: 88.58\n",
      "train Epoch: 11  , Loss: 0.3076,  Accuracy: 88.88\n",
      "train Epoch: 12  , Loss: 0.3174,  Accuracy: 88.92\n",
      "train Epoch: 13  , Loss: 0.3082,  Accuracy: 88.85\n",
      "train Epoch: 14  , Loss: 0.2959,  Accuracy: 89.62\n",
      "val Epoch: 14  , Loss: 0.6800,  Accuracy: 82.25\n"
     ]
    },
    {
     "name": "stdout",
     "output_type": "stream",
     "text": [
      "train Epoch: 15  , Loss: 0.3191,  Accuracy: 88.42\n",
      "train Epoch: 16  , Loss: 0.3200,  Accuracy: 88.72\n",
      "train Epoch: 17  , Loss: 0.3096,  Accuracy: 89.30\n",
      "train Epoch: 18  , Loss: 0.3105,  Accuracy: 88.92\n",
      "train Epoch: 19  , Loss: 0.3177,  Accuracy: 88.67\n",
      "val Epoch: 19  , Loss: 0.7062,  Accuracy: 81.25\n",
      "train Epoch: 20  , Loss: 0.2935,  Accuracy: 89.30\n",
      "train Epoch: 21  , Loss: 0.3097,  Accuracy: 88.78\n",
      "train Epoch: 22  , Loss: 0.3033,  Accuracy: 88.88\n",
      "train Epoch: 23  , Loss: 0.3122,  Accuracy: 88.42\n",
      "train Epoch: 24  , Loss: 0.3077,  Accuracy: 88.92\n",
      "val Epoch: 24  , Loss: 0.6756,  Accuracy: 81.25\n",
      "train Epoch: 25  , Loss: 0.3265,  Accuracy: 88.60\n",
      "train Epoch: 26  , Loss: 0.2969,  Accuracy: 89.58\n",
      "train Epoch: 27  , Loss: 0.3102,  Accuracy: 88.52\n",
      "train Epoch: 28  , Loss: 0.2896,  Accuracy: 89.60\n",
      "train Epoch: 29  , Loss: 0.3192,  Accuracy: 88.28\n",
      "val Epoch: 29  , Loss: 0.6653,  Accuracy: 82.50\n",
      "train Epoch: 30  , Loss: 0.3257,  Accuracy: 88.50\n",
      "train Epoch: 31  , Loss: 0.3011,  Accuracy: 89.30\n",
      "train Epoch: 32  , Loss: 0.3197,  Accuracy: 88.60\n",
      "train Epoch: 33  , Loss: 0.2959,  Accuracy: 89.28\n",
      "train Epoch: 34  , Loss: 0.3103,  Accuracy: 88.78\n",
      "val Epoch: 34  , Loss: 0.6924,  Accuracy: 81.38\n",
      "train Epoch: 35  , Loss: 0.3232,  Accuracy: 88.12\n",
      "train Epoch: 36  , Loss: 0.3034,  Accuracy: 89.10\n",
      "train Epoch: 37  , Loss: 0.3039,  Accuracy: 89.05\n",
      "train Epoch: 38  , Loss: 0.3088,  Accuracy: 88.70\n",
      "train Epoch: 39  , Loss: 0.3003,  Accuracy: 88.85\n",
      "val Epoch: 39  , Loss: 0.6718,  Accuracy: 81.12\n",
      "train Epoch: 40  , Loss: 0.3233,  Accuracy: 88.58\n",
      "train Epoch: 41  , Loss: 0.2964,  Accuracy: 89.28\n",
      "train Epoch: 42  , Loss: 0.3095,  Accuracy: 88.88\n",
      "train Epoch: 43  , Loss: 0.2929,  Accuracy: 88.90\n",
      "train Epoch: 44  , Loss: 0.3027,  Accuracy: 89.10\n",
      "val Epoch: 44  , Loss: 0.6718,  Accuracy: 82.88\n",
      "train Epoch: 45  , Loss: 0.3143,  Accuracy: 88.40\n",
      "train Epoch: 46  , Loss: 0.3150,  Accuracy: 88.30\n",
      "train Epoch: 47  , Loss: 0.2944,  Accuracy: 88.88\n",
      "train Epoch: 48  , Loss: 0.3065,  Accuracy: 88.45\n",
      "train Epoch: 49  , Loss: 0.2927,  Accuracy: 89.48\n",
      "val Epoch: 49  , Loss: 0.7136,  Accuracy: 82.25\n",
      "train Epoch: 50  , Loss: 0.3086,  Accuracy: 88.42\n",
      "train Epoch: 51  , Loss: 0.2960,  Accuracy: 89.68\n",
      "train Epoch: 52  , Loss: 0.3024,  Accuracy: 88.88\n",
      "train Epoch: 53  , Loss: 0.3007,  Accuracy: 89.25\n",
      "train Epoch: 54  , Loss: 0.2936,  Accuracy: 89.15\n",
      "val Epoch: 54  , Loss: 0.6937,  Accuracy: 82.25\n",
      "train Epoch: 55  , Loss: 0.3002,  Accuracy: 89.12\n",
      "train Epoch: 56  , Loss: 0.3134,  Accuracy: 88.35\n",
      "train Epoch: 57  , Loss: 0.3172,  Accuracy: 88.28\n",
      "train Epoch: 58  , Loss: 0.2981,  Accuracy: 89.05\n",
      "train Epoch: 59  , Loss: 0.3046,  Accuracy: 88.95\n",
      "val Epoch: 59  , Loss: 0.6667,  Accuracy: 82.75\n",
      "train Epoch: 60  , Loss: 0.2979,  Accuracy: 89.60\n",
      "train Epoch: 61  , Loss: 0.3005,  Accuracy: 89.10\n",
      "train Epoch: 62  , Loss: 0.2978,  Accuracy: 89.35\n",
      "train Epoch: 63  , Loss: 0.3089,  Accuracy: 88.52\n",
      "train Epoch: 64  , Loss: 0.2846,  Accuracy: 89.35\n",
      "val Epoch: 64  , Loss: 0.7140,  Accuracy: 80.62\n",
      "train Epoch: 65  , Loss: 0.2963,  Accuracy: 89.15\n",
      "train Epoch: 66  , Loss: 0.3010,  Accuracy: 88.75\n",
      "train Epoch: 67  , Loss: 0.3053,  Accuracy: 88.75\n",
      "train Epoch: 68  , Loss: 0.2818,  Accuracy: 89.88\n",
      "train Epoch: 69  , Loss: 0.2941,  Accuracy: 89.28\n",
      "val Epoch: 69  , Loss: 0.7314,  Accuracy: 82.38\n",
      "train Epoch: 70  , Loss: 0.2962,  Accuracy: 89.05\n",
      "train Epoch: 71  , Loss: 0.3070,  Accuracy: 88.60\n",
      "train Epoch: 72  , Loss: 0.2956,  Accuracy: 88.67\n",
      "train Epoch: 73  , Loss: 0.2915,  Accuracy: 89.18\n",
      "train Epoch: 74  , Loss: 0.2940,  Accuracy: 89.90\n",
      "val Epoch: 74  , Loss: 0.6849,  Accuracy: 82.62\n",
      "train Epoch: 75  , Loss: 0.2881,  Accuracy: 88.98\n",
      "train Epoch: 76  , Loss: 0.2932,  Accuracy: 89.48\n",
      "train Epoch: 77  , Loss: 0.2862,  Accuracy: 89.80\n",
      "train Epoch: 78  , Loss: 0.3011,  Accuracy: 88.98\n",
      "train Epoch: 79  , Loss: 0.3064,  Accuracy: 88.42\n",
      "val Epoch: 79  , Loss: 0.6594,  Accuracy: 83.50\n",
      "train Epoch: 80  , Loss: 0.2843,  Accuracy: 89.42\n",
      "train Epoch: 81  , Loss: 0.3095,  Accuracy: 88.55\n",
      "train Epoch: 82  , Loss: 0.2866,  Accuracy: 89.58\n",
      "train Epoch: 83  , Loss: 0.2891,  Accuracy: 89.10\n",
      "train Epoch: 84  , Loss: 0.2972,  Accuracy: 89.03\n",
      "val Epoch: 84  , Loss: 0.7134,  Accuracy: 82.75\n",
      "train Epoch: 85  , Loss: 0.2940,  Accuracy: 89.28\n",
      "train Epoch: 86  , Loss: 0.2931,  Accuracy: 89.58\n",
      "train Epoch: 87  , Loss: 0.2992,  Accuracy: 89.33\n",
      "train Epoch: 88  , Loss: 0.3048,  Accuracy: 88.80\n",
      "train Epoch: 89  , Loss: 0.2959,  Accuracy: 89.10\n",
      "val Epoch: 89  , Loss: 0.6935,  Accuracy: 82.50\n",
      "train Epoch: 90  , Loss: 0.2845,  Accuracy: 89.55\n",
      "train Epoch: 91  , Loss: 0.3032,  Accuracy: 88.52\n",
      "train Epoch: 92  , Loss: 0.2903,  Accuracy: 89.72\n",
      "train Epoch: 93  , Loss: 0.3033,  Accuracy: 89.25\n",
      "train Epoch: 94  , Loss: 0.2940,  Accuracy: 89.80\n",
      "val Epoch: 94  , Loss: 0.6822,  Accuracy: 82.25\n",
      "train Epoch: 95  , Loss: 0.2956,  Accuracy: 89.45\n",
      "train Epoch: 96  , Loss: 0.2897,  Accuracy: 89.65\n",
      "train Epoch: 97  , Loss: 0.2896,  Accuracy: 89.45\n",
      "train Epoch: 98  , Loss: 0.2788,  Accuracy: 90.03\n",
      "train Epoch: 99  , Loss: 0.2796,  Accuracy: 90.10\n",
      "val Epoch: 99  , Loss: 0.6782,  Accuracy: 82.12\n"
     ]
    }
   ],
   "source": [
    "stage = 5\n",
    "num_epochs = 100\n",
    "evaluate_every_epoch = 5\n",
    "lr_list = [0.01,0.008,0.006,0.004,0.002]\n",
    "for s in range(stage):\n",
    "    lr_ = lr_list[s]\n",
    "    optimizer = torch.optim.SGD(model.parameters(), lr = lr_, momentum=0.9)\n",
    "    for e in range(num_epochs):\n",
    "        loss,acc = run_epoch(trLD, model, criterion, e, True, optimizer)\n",
    "        train_loss.append(loss)\n",
    "        train_acc.append(acc)\n",
    "        if (e+1) % evaluate_every_epoch == 0:\n",
    "            loss,acc = run_epoch(valLD, model, criterion, e, False, None)   \n",
    "            valid_loss.append(loss)\n",
    "            valid_acc.append(acc)"
   ]
  },
  {
   "cell_type": "code",
   "execution_count": 48,
   "metadata": {},
   "outputs": [
    {
     "data": {
      "text/plain": [
       "500"
      ]
     },
     "execution_count": 48,
     "metadata": {},
     "output_type": "execute_result"
    }
   ],
   "source": [
    "len(train_loss[258:])\n",
    "len()"
   ]
  },
  {
   "cell_type": "code",
   "execution_count": 51,
   "metadata": {},
   "outputs": [
    {
     "data": {
      "text/plain": [
       "100"
      ]
     },
     "execution_count": 51,
     "metadata": {},
     "output_type": "execute_result"
    }
   ],
   "source": [
    "len(valid_loss[51:])"
   ]
  },
  {
   "cell_type": "code",
   "execution_count": 52,
   "metadata": {},
   "outputs": [],
   "source": [
    "train_loss = train_loss[258:]\n",
    "valid_loss = valid_loss[51:]\n",
    "train_acc = train_acc[258:]\n",
    "valid_acc = valid_acc[51:]"
   ]
  },
  {
   "cell_type": "code",
   "execution_count": 56,
   "metadata": {},
   "outputs": [
    {
     "data": {
      "text/plain": [
       "500"
      ]
     },
     "execution_count": 56,
     "metadata": {},
     "output_type": "execute_result"
    }
   ],
   "source": [
    "len(train_acc)"
   ]
  },
  {
   "cell_type": "code",
   "execution_count": 46,
   "metadata": {},
   "outputs": [
    {
     "data": {
      "image/png": "[encoded data removed]",
      "text/plain": [
       "<matplotlib.figure.Figure at 0x20acc1cbb38>"
      ]
     },
     "metadata": {},
     "output_type": "display_data"
    }
   ],
   "source": [
    "plt.plot(train_loss[258:])\n",
    "plt.show()"
   ]
  },
  {
   "cell_type": "markdown",
   "metadata": {},
   "source": [
    "## Submit your results on Kaggle\n",
    "\n",
    "### Train a better model for action recognition!\n",
    "Now it's your job to experiment with architectures, hyperparameters, loss functions, and optimizers to train a model that achieves better accuracy on the action recognition validation set.\n",
    "\n",
    "\n",
    "### Testing the model and submit on Kaggle\n",
    "Testing the model on the testing set and save the results as a .csv file. \n",
    "Please submitted the results.csv file generated by predict_on_test() to Kaggle(https://www.kaggle.com/c/cse512springhw5) to see how well your network performs on the test set. \n",
    "################ 3rd To Do  (30 points, the highest 3 entries get extra 10 points) ###############\n"
   ]
  },
  {
   "cell_type": "code",
   "execution_count": 41,
   "metadata": {},
   "outputs": [
    {
     "name": "stdout",
     "output_type": "stream",
     "text": [
      "1000\n"
     ]
    }
   ],
   "source": [
    "# Use your best model to generate results on test set.\n",
    "\n",
    "# generate csv file for test set\n",
    "def predict_on_test(model, data_loader):\n",
    "    model.eval() # Put the model in test mode (the opposite of model.train(), essentially)\n",
    "    results=open('results.csv','w')\n",
    "    count=0\n",
    "    results.write('Id'+','+'Class'+'\\n')\n",
    "    for batch_idx, sample in enumerate(data_loader):\n",
    "        sequence = sample['seq']\n",
    "        input_sequence_var = Variable(sequence).type(FloatTensor)\n",
    "        scores = model(input_sequence_var)\n",
    "        _, preds = scores.data.max(1)\n",
    "        for i in range(len(preds)):\n",
    "            results.write(str(count)+','+str(preds[i].item())+'\\n')\n",
    "            count+=1\n",
    "    results.close()\n",
    "    return count\n",
    "\n",
    "count=predict_on_test(model, tstLD)\n",
    "print(count)"
   ]
  },
  {
   "cell_type": "markdown",
   "metadata": {},
   "source": [
    "## Report the performance\n",
    "################ 4th To Do  (15 points)##################"
   ]
  },
  {
   "cell_type": "markdown",
   "metadata": {},
   "source": [
    "### Documentation of what you did\n",
    "In this cell, you should write an explanation of what you did (network architecture, optimiziter, learning rate, epoches) and visualizations or graphs of loss/accuracy curve tin the process of training and evaluating.\n",
    "\n",
    "#### preprocess:\n",
    "standlization with sklearn\n",
    "\n",
    "#### architecture:\n",
    "2 layer LSTM + CNN + BatchNorm + ReLU + Dropout + Flatten() + Linear.\n",
    "\n",
    "self.recurrent_layer = torch.nn.LSTM(input_size = 75,hidden_size = 100, num_layers = 2, dropout=0.5)\n",
    "        \n",
    "self.classify_layer = torch.nn.Sequential(torch.nn.Conv1d(15,10,3),torch.nn.BatchNorm1d(10),torch.nn.ReLU(),torch.nn.Dropout(0.5),Flatten(),torch.nn.Linear(980,10))\n",
    "        \n",
    "\n",
    "#### optimizer:\n",
    "optimizer = torch.optim.SGD(model.parameters(), lr = 0.01, momentum=0.9)\n",
    "\n",
    "#### learning rate\n",
    "lr_list = [0.01,0.008,0.006,0.004,0.002] \n",
    "for epoch = 0-200,200-400,400-600,600-800,800-10000\n",
    "#### epoches = 1000"
   ]
  },
  {
   "cell_type": "markdown",
   "metadata": {},
   "source": [
    "#### Visualize"
   ]
  },
  {
   "cell_type": "code",
   "execution_count": 42,
   "metadata": {},
   "outputs": [],
   "source": [
    "from matplotlib import pyplot as plt"
   ]
  },
  {
   "cell_type": "code",
   "execution_count": 53,
   "metadata": {},
   "outputs": [
    {
     "data": {
      "image/png": "[encoded data removed]",
      "text/plain": [
       "<matplotlib.figure.Figure at 0x20ad8b8a940>"
      ]
     },
     "metadata": {},
     "output_type": "display_data"
    }
   ],
   "source": [
    "valid_epoch = [x+5 for x in range(0,500,5)]\n",
    "train_epoch = [x for x in range(500)]\n",
    "plt.plot(train_epoch,train_loss,label='train')\n",
    "plt.plot(valid_epoch,valid_loss,label='valid')\n",
    "plt.title(\"loss\")\n",
    "plt.legend()\n",
    "plt.show()"
   ]
  },
  {
   "cell_type": "code",
   "execution_count": 57,
   "metadata": {},
   "outputs": [
    {
     "data": {
      "image/png": "[encoded data removed]",
      "text/plain": [
       "<matplotlib.figure.Figure at 0x20ad8bbd9e8>"
      ]
     },
     "metadata": {},
     "output_type": "display_data"
    }
   ],
   "source": [
    "valid_epoch = [x+5 for x in range(0,500,5)]\n",
    "train_epoch = [x for x in range(500)]\n",
    "plt.plot(train_epoch,train_acc,label='train')\n",
    "plt.plot(valid_epoch,valid_acc,label='valid')\n",
    "plt.title(\"accuracy\")\n",
    "plt.legend()\n",
    "plt.show()"
   ]
  },
  {
   "cell_type": "markdown",
   "metadata": {},
   "source": [
    "### performance on Kaggle\n",
    "You should also report your Kaggle Performance here:"
   ]
  },
  {
   "cell_type": "markdown",
   "metadata": {},
   "source": [
    "score: 82.1%"
   ]
  },
  {
   "cell_type": "markdown",
   "metadata": {},
   "source": []
  }
 ],
 "metadata": {
  "kernelspec": {
   "display_name": "Python 3",
   "language": "python",
   "name": "python3"
  },
  "language_info": {
   "codemirror_mode": {
    "name": "ipython",
    "version": 3
   },
   "file_extension": ".py",
   "mimetype": "text/x-python",
   "name": "python",
   "nbconvert_exporter": "python",
   "pygments_lexer": "ipython3",
   "version": "3.6.3"
  }
 },
 "nbformat": 4,
 "nbformat_minor": 2
}
