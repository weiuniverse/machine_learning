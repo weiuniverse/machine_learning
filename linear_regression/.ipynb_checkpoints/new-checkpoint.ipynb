{
 "cells": [
  {
   "cell_type": "code",
   "execution_count": null,
   "metadata": {},
   "outputs": [],
   "source": [
    "import pandas as pd\n",
    "import numpy as np\n",
    "from scipy.sparse import *\n",
    "from lasso import lasso\n",
    "from lasso import max_lamb\n",
    "from lasso import RMSE"
   ]
  },
  {
   "cell_type": "code",
   "execution_count": null,
   "metadata": {},
   "outputs": [],
   "source": [
    "# dimension\n",
    "d = 3000"
   ]
  },
  {
   "cell_type": "code",
   "execution_count": null,
   "metadata": {},
   "outputs": [],
   "source": [
    "## load data\n",
    "# load train data\n",
    "# num of training data\n",
    "n = 10000\n",
    "train_data = np.loadtxt('./data/trainData.txt')\n",
    "train_data = coo_matrix((train_data[:,2],(train_data[:,1]-1,train_data[:,0]-1)),shape=(d,n)).tocsr()\n",
    "train_labels = np.loadtxt('./data/trainLabels.txt')"
   ]
  },
  {
   "cell_type": "code",
   "execution_count": null,
   "metadata": {},
   "outputs": [],
   "source": [
    "# load validation data\n",
    "val_data = np.loadtxt('./data/valData.txt')\n",
    "val_data = coo_matrix((val_data[:,2],(val_data[:,1]-1,val_data[:,0]-1)),shape=(d,n)).tocsr()\n",
    "val_labels = np.loadtxt('./data/valLabels.txt')"
   ]
  },
  {
   "cell_type": "code",
   "execution_count": null,
   "metadata": {},
   "outputs": [],
   "source": [
    "train_data = np.array(train_data.todense())\n",
    "val_data = np.array(val_data.todense())"
   ]
  },
  {
   "cell_type": "code",
   "execution_count": null,
   "metadata": {},
   "outputs": [],
   "source": [
    "data = np.concatenate((train_data,val_data),axis=1)\n",
    "del train_data \n",
    "del val_data"
   ]
  },
  {
   "cell_type": "code",
   "execution_count": null,
   "metadata": {},
   "outputs": [],
   "source": [
    "labels = np.concatenate((train_labels,val_labels))"
   ]
  },
  {
   "cell_type": "code",
   "execution_count": null,
   "metadata": {},
   "outputs": [],
   "source": [
    "lamb = max_lamb(data,labels)\n",
    "l_2 = lasso(train_mode='decay')"
   ]
  },
  {
   "cell_type": "code",
   "execution_count": null,
   "metadata": {},
   "outputs": [],
   "source": [
    "l_2.fit(data,labels,lamb)"
   ]
  },
  {
   "cell_type": "code",
   "execution_count": null,
   "metadata": {},
   "outputs": [],
   "source": [
    "l_2.save_model(\"./model/all_data_from_begin.txt\")"
   ]
  }
 ],
 "metadata": {
  "kernelspec": {
   "display_name": "Python 3",
   "language": "python",
   "name": "python3"
  },
  "language_info": {
   "codemirror_mode": {
    "name": "ipython",
    "version": 3
   },
   "file_extension": ".py",
   "mimetype": "text/x-python",
   "name": "python",
   "nbconvert_exporter": "python",
   "pygments_lexer": "ipython3",
   "version": "3.6.3"
  }
 },
 "nbformat": 4,
 "nbformat_minor": 2
}
